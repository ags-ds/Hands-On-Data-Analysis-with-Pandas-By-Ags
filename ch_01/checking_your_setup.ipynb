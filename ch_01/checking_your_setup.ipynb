{
 "cells": [
  {
   "cell_type": "markdown",
   "metadata": {},
   "source": [
    "# Checking your setup\n",
    "Run through this notebook to make sure your environment is properly setup. Be sure to launch Jupyter from inside the virtual environment."
   ]
  },
  {
   "cell_type": "code",
   "execution_count": 13,
   "metadata": {
    "tags": []
   },
   "outputs": [
    {
     "name": "stdout",
     "output_type": "stream",
     "text": [
      "Using Python in C:\\Users\\Agata\\Documents\\GitHub\\Hands-On-Data-Analysis-with-Pandas\\book_env:\n",
      "\u001b[42m[ OK ]\u001b[0m Python is version 3.10.2 (tags/v3.10.2:a58ebcc, Jan 17 2022, 14:12:15) [MSC v.1929 64 bit (AMD64)]\n",
      "\n",
      "\u001b[41m[FAIL]\u001b[0m graphviz version 0.10.1 is required, but 0.19.1 installed.\n",
      "\u001b[42m[ OK ]\u001b[0m graphviz\n",
      "\u001b[41m[FAIL]\u001b[0m imblearn version 0.4.3 is required, but 0.9.0 installed.\n",
      "\u001b[42m[ OK ]\u001b[0m imblearn\n",
      "\u001b[41m[FAIL]\u001b[0m jupyterlab version 0.35.6 is required, but 3.2.9 installed.\n",
      "\u001b[42m[ OK ]\u001b[0m jupyterlab\n",
      "\u001b[41m[FAIL]\u001b[0m matplotlib version 3.0.3 is required, but 3.5.1 installed.\n",
      "\u001b[42m[ OK ]\u001b[0m matplotlib\n",
      "\u001b[41m[FAIL]\u001b[0m numpy version 1.16.3 is required, but 1.22.2 installed.\n",
      "\u001b[42m[ OK ]\u001b[0m numpy\n",
      "\u001b[41m[FAIL]\u001b[0m pandas version 0.23.4 is required, but 1.4.1 installed.\n",
      "\u001b[42m[ OK ]\u001b[0m pandas\n",
      "\u001b[41m[FAIL]\u001b[0m pandas_datareader version 0.7.0 is required, but 0.10.0 installed.\n",
      "\u001b[42m[ OK ]\u001b[0m pandas_datareader\n",
      "\u001b[41m[FAIL]\u001b[0m requests version 2.21.0 is required, but 2.27.1 installed.\n",
      "\u001b[42m[ OK ]\u001b[0m requests\n",
      "\u001b[41m[FAIL]\u001b[0m sklearn version 0.20.3 is required, but 1.0.2 installed.\n",
      "\u001b[42m[ OK ]\u001b[0m sklearn\n",
      "\u001b[41m[FAIL]\u001b[0m scipy version 1.2.1 is required, but 1.8.0 installed.\n",
      "\u001b[42m[ OK ]\u001b[0m scipy\n",
      "\u001b[41m[FAIL]\u001b[0m seaborn version 0.9.0 is required, but 0.11.2 installed.\n",
      "\u001b[42m[ OK ]\u001b[0m seaborn\n",
      "\u001b[41m[FAIL]\u001b[0m sqlalchemy version 1.3.3 is required, but 1.4.31 installed.\n",
      "\u001b[42m[ OK ]\u001b[0m sqlalchemy\n",
      "\u001b[41m[FAIL]\u001b[0m statsmodels version 0.9.0 is required, but 0.13.2 installed.\n",
      "\u001b[42m[ OK ]\u001b[0m statsmodels\n",
      "\u001b[42m[ OK ]\u001b[0m login_attempt_simulator\n",
      "\u001b[42m[ OK ]\u001b[0m ml_utils\n",
      "\u001b[42m[ OK ]\u001b[0m stock_analysis\n"
     ]
    }
   ],
   "source": [
    "from check_environment import run_checks\n",
    "run_checks()"
   ]
  },
  {
   "cell_type": "markdown",
   "metadata": {},
   "source": [
    "*Note: Adapted from Andreas Mueller's [`check_env.ipynb` notebook](https://github.com/amueller/ml-workshop-1-of-4/blob/master/check_env.ipynb).*"
   ]
  },
  {
   "cell_type": "code",
   "execution_count": null,
   "metadata": {},
   "outputs": [],
   "source": []
  },
  {
   "cell_type": "code",
   "execution_count": null,
   "metadata": {},
   "outputs": [],
   "source": []
  }
 ],
 "metadata": {
  "kernelspec": {
   "display_name": "Python 3 (ipykernel)",
   "language": "python",
   "name": "python3"
  },
  "language_info": {
   "codemirror_mode": {
    "name": "ipython",
    "version": 3
   },
   "file_extension": ".py",
   "mimetype": "text/x-python",
   "name": "python",
   "nbconvert_exporter": "python",
   "pygments_lexer": "ipython3",
   "version": "3.10.2"
  }
 },
 "nbformat": 4,
 "nbformat_minor": 4
}
