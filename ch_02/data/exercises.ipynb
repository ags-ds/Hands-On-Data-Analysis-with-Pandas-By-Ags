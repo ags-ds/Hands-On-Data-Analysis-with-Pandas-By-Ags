{
 "cells": [
  {
   "cell_type": "code",
   "execution_count": 1,
   "metadata": {},
   "outputs": [],
   "source": [
    "import pandas as pd\n",
    "import numpy as np"
   ]
  },
  {
   "cell_type": "code",
   "execution_count": 2,
   "metadata": {},
   "outputs": [],
   "source": [
    "data = pd.read_csv('parsed.csv')"
   ]
  },
  {
   "cell_type": "code",
   "execution_count": 16,
   "metadata": {},
   "outputs": [
    {
     "data": {
      "text/plain": [
       "Index(['alert', 'cdi', 'code', 'detail', 'dmin', 'felt', 'gap', 'ids', 'mag',\n",
       "       'magType', 'mmi', 'net', 'nst', 'place', 'rms', 'sig', 'sources',\n",
       "       'status', 'time', 'title', 'tsunami', 'type', 'types', 'tz', 'updated',\n",
       "       'url', 'parsed_place', 'Ring of Fire'],\n",
       "      dtype='object')"
      ]
     },
     "execution_count": 16,
     "metadata": {},
     "output_type": "execute_result"
    }
   ],
   "source": [
    "data.columns"
   ]
  },
  {
   "cell_type": "code",
   "execution_count": 3,
   "metadata": {},
   "outputs": [
    {
     "data": {
      "text/html": [
       "<div>\n",
       "<style scoped>\n",
       "    .dataframe tbody tr th:only-of-type {\n",
       "        vertical-align: middle;\n",
       "    }\n",
       "\n",
       "    .dataframe tbody tr th {\n",
       "        vertical-align: top;\n",
       "    }\n",
       "\n",
       "    .dataframe thead th {\n",
       "        text-align: right;\n",
       "    }\n",
       "</style>\n",
       "<table border=\"1\" class=\"dataframe\">\n",
       "  <thead>\n",
       "    <tr style=\"text-align: right;\">\n",
       "      <th></th>\n",
       "      <th>alert</th>\n",
       "      <th>cdi</th>\n",
       "      <th>code</th>\n",
       "      <th>detail</th>\n",
       "      <th>dmin</th>\n",
       "      <th>felt</th>\n",
       "      <th>gap</th>\n",
       "      <th>ids</th>\n",
       "      <th>mag</th>\n",
       "      <th>magType</th>\n",
       "      <th>...</th>\n",
       "      <th>status</th>\n",
       "      <th>time</th>\n",
       "      <th>title</th>\n",
       "      <th>tsunami</th>\n",
       "      <th>type</th>\n",
       "      <th>types</th>\n",
       "      <th>tz</th>\n",
       "      <th>updated</th>\n",
       "      <th>url</th>\n",
       "      <th>parsed_place</th>\n",
       "    </tr>\n",
       "  </thead>\n",
       "  <tbody>\n",
       "    <tr>\n",
       "      <th>0</th>\n",
       "      <td>NaN</td>\n",
       "      <td>NaN</td>\n",
       "      <td>37389218</td>\n",
       "      <td>https://earthquake.usgs.gov/fdsnws/event/1/que...</td>\n",
       "      <td>0.008693</td>\n",
       "      <td>NaN</td>\n",
       "      <td>85.0</td>\n",
       "      <td>,ci37389218,</td>\n",
       "      <td>1.35</td>\n",
       "      <td>ml</td>\n",
       "      <td>...</td>\n",
       "      <td>automatic</td>\n",
       "      <td>1539475168010</td>\n",
       "      <td>M 1.4 - 9km NE of Aguanga, CA</td>\n",
       "      <td>0</td>\n",
       "      <td>earthquake</td>\n",
       "      <td>,geoserve,nearby-cities,origin,phase-data,</td>\n",
       "      <td>-480.0</td>\n",
       "      <td>1539475395144</td>\n",
       "      <td>https://earthquake.usgs.gov/earthquakes/eventp...</td>\n",
       "      <td>California</td>\n",
       "    </tr>\n",
       "    <tr>\n",
       "      <th>1</th>\n",
       "      <td>NaN</td>\n",
       "      <td>NaN</td>\n",
       "      <td>37389202</td>\n",
       "      <td>https://earthquake.usgs.gov/fdsnws/event/1/que...</td>\n",
       "      <td>0.020030</td>\n",
       "      <td>NaN</td>\n",
       "      <td>79.0</td>\n",
       "      <td>,ci37389202,</td>\n",
       "      <td>1.29</td>\n",
       "      <td>ml</td>\n",
       "      <td>...</td>\n",
       "      <td>automatic</td>\n",
       "      <td>1539475129610</td>\n",
       "      <td>M 1.3 - 9km NE of Aguanga, CA</td>\n",
       "      <td>0</td>\n",
       "      <td>earthquake</td>\n",
       "      <td>,geoserve,nearby-cities,origin,phase-data,</td>\n",
       "      <td>-480.0</td>\n",
       "      <td>1539475253925</td>\n",
       "      <td>https://earthquake.usgs.gov/earthquakes/eventp...</td>\n",
       "      <td>California</td>\n",
       "    </tr>\n",
       "    <tr>\n",
       "      <th>2</th>\n",
       "      <td>NaN</td>\n",
       "      <td>4.4</td>\n",
       "      <td>37389194</td>\n",
       "      <td>https://earthquake.usgs.gov/fdsnws/event/1/que...</td>\n",
       "      <td>0.021370</td>\n",
       "      <td>28.0</td>\n",
       "      <td>21.0</td>\n",
       "      <td>,ci37389194,</td>\n",
       "      <td>3.42</td>\n",
       "      <td>ml</td>\n",
       "      <td>...</td>\n",
       "      <td>automatic</td>\n",
       "      <td>1539475062610</td>\n",
       "      <td>M 3.4 - 8km NE of Aguanga, CA</td>\n",
       "      <td>0</td>\n",
       "      <td>earthquake</td>\n",
       "      <td>,dyfi,focal-mechanism,geoserve,nearby-cities,o...</td>\n",
       "      <td>-480.0</td>\n",
       "      <td>1539536756176</td>\n",
       "      <td>https://earthquake.usgs.gov/earthquakes/eventp...</td>\n",
       "      <td>California</td>\n",
       "    </tr>\n",
       "    <tr>\n",
       "      <th>3</th>\n",
       "      <td>NaN</td>\n",
       "      <td>NaN</td>\n",
       "      <td>37389186</td>\n",
       "      <td>https://earthquake.usgs.gov/fdsnws/event/1/que...</td>\n",
       "      <td>0.026180</td>\n",
       "      <td>NaN</td>\n",
       "      <td>39.0</td>\n",
       "      <td>,ci37389186,</td>\n",
       "      <td>0.44</td>\n",
       "      <td>ml</td>\n",
       "      <td>...</td>\n",
       "      <td>automatic</td>\n",
       "      <td>1539474978070</td>\n",
       "      <td>M 0.4 - 9km NE of Aguanga, CA</td>\n",
       "      <td>0</td>\n",
       "      <td>earthquake</td>\n",
       "      <td>,geoserve,nearby-cities,origin,phase-data,</td>\n",
       "      <td>-480.0</td>\n",
       "      <td>1539475196167</td>\n",
       "      <td>https://earthquake.usgs.gov/earthquakes/eventp...</td>\n",
       "      <td>California</td>\n",
       "    </tr>\n",
       "    <tr>\n",
       "      <th>4</th>\n",
       "      <td>NaN</td>\n",
       "      <td>NaN</td>\n",
       "      <td>73096941</td>\n",
       "      <td>https://earthquake.usgs.gov/fdsnws/event/1/que...</td>\n",
       "      <td>0.077990</td>\n",
       "      <td>NaN</td>\n",
       "      <td>192.0</td>\n",
       "      <td>,nc73096941,</td>\n",
       "      <td>2.16</td>\n",
       "      <td>md</td>\n",
       "      <td>...</td>\n",
       "      <td>automatic</td>\n",
       "      <td>1539474716050</td>\n",
       "      <td>M 2.2 - 10km NW of Avenal, CA</td>\n",
       "      <td>0</td>\n",
       "      <td>earthquake</td>\n",
       "      <td>,geoserve,nearby-cities,origin,phase-data,scit...</td>\n",
       "      <td>-480.0</td>\n",
       "      <td>1539477547926</td>\n",
       "      <td>https://earthquake.usgs.gov/earthquakes/eventp...</td>\n",
       "      <td>California</td>\n",
       "    </tr>\n",
       "  </tbody>\n",
       "</table>\n",
       "<p>5 rows × 27 columns</p>\n",
       "</div>"
      ],
      "text/plain": [
       "  alert  cdi      code                                             detail  \\\n",
       "0   NaN  NaN  37389218  https://earthquake.usgs.gov/fdsnws/event/1/que...   \n",
       "1   NaN  NaN  37389202  https://earthquake.usgs.gov/fdsnws/event/1/que...   \n",
       "2   NaN  4.4  37389194  https://earthquake.usgs.gov/fdsnws/event/1/que...   \n",
       "3   NaN  NaN  37389186  https://earthquake.usgs.gov/fdsnws/event/1/que...   \n",
       "4   NaN  NaN  73096941  https://earthquake.usgs.gov/fdsnws/event/1/que...   \n",
       "\n",
       "       dmin  felt    gap           ids   mag magType  ...     status  \\\n",
       "0  0.008693   NaN   85.0  ,ci37389218,  1.35      ml  ...  automatic   \n",
       "1  0.020030   NaN   79.0  ,ci37389202,  1.29      ml  ...  automatic   \n",
       "2  0.021370  28.0   21.0  ,ci37389194,  3.42      ml  ...  automatic   \n",
       "3  0.026180   NaN   39.0  ,ci37389186,  0.44      ml  ...  automatic   \n",
       "4  0.077990   NaN  192.0  ,nc73096941,  2.16      md  ...  automatic   \n",
       "\n",
       "            time                          title tsunami        type  \\\n",
       "0  1539475168010  M 1.4 - 9km NE of Aguanga, CA       0  earthquake   \n",
       "1  1539475129610  M 1.3 - 9km NE of Aguanga, CA       0  earthquake   \n",
       "2  1539475062610  M 3.4 - 8km NE of Aguanga, CA       0  earthquake   \n",
       "3  1539474978070  M 0.4 - 9km NE of Aguanga, CA       0  earthquake   \n",
       "4  1539474716050  M 2.2 - 10km NW of Avenal, CA       0  earthquake   \n",
       "\n",
       "                                               types     tz        updated  \\\n",
       "0         ,geoserve,nearby-cities,origin,phase-data, -480.0  1539475395144   \n",
       "1         ,geoserve,nearby-cities,origin,phase-data, -480.0  1539475253925   \n",
       "2  ,dyfi,focal-mechanism,geoserve,nearby-cities,o... -480.0  1539536756176   \n",
       "3         ,geoserve,nearby-cities,origin,phase-data, -480.0  1539475196167   \n",
       "4  ,geoserve,nearby-cities,origin,phase-data,scit... -480.0  1539477547926   \n",
       "\n",
       "                                                 url parsed_place  \n",
       "0  https://earthquake.usgs.gov/earthquakes/eventp...   California  \n",
       "1  https://earthquake.usgs.gov/earthquakes/eventp...   California  \n",
       "2  https://earthquake.usgs.gov/earthquakes/eventp...   California  \n",
       "3  https://earthquake.usgs.gov/earthquakes/eventp...   California  \n",
       "4  https://earthquake.usgs.gov/earthquakes/eventp...   California  \n",
       "\n",
       "[5 rows x 27 columns]"
      ]
     },
     "execution_count": 3,
     "metadata": {},
     "output_type": "execute_result"
    }
   ],
   "source": [
    "data.head()"
   ]
  },
  {
   "cell_type": "code",
   "execution_count": 4,
   "metadata": {},
   "outputs": [
    {
     "data": {
      "text/plain": [
       "alert           False\n",
       "cdi             False\n",
       "code            False\n",
       "detail          False\n",
       "dmin            False\n",
       "felt            False\n",
       "gap             False\n",
       "ids             False\n",
       "mag             False\n",
       "magType         False\n",
       "mmi             False\n",
       "net             False\n",
       "nst             False\n",
       "place           False\n",
       "rms             False\n",
       "sig             False\n",
       "sources         False\n",
       "status          False\n",
       "time            False\n",
       "title           False\n",
       "tsunami         False\n",
       "type            False\n",
       "types           False\n",
       "tz              False\n",
       "updated         False\n",
       "url             False\n",
       "parsed_place    False\n",
       "dtype: bool"
      ]
     },
     "execution_count": 4,
     "metadata": {},
     "output_type": "execute_result"
    }
   ],
   "source": [
    "data.isin(['Ring of Fire']).any()"
   ]
  },
  {
   "cell_type": "code",
   "execution_count": 5,
   "metadata": {},
   "outputs": [
    {
     "data": {
      "text/plain": [
       "array(['Afghanistan', 'Alaska', 'Argentina', 'Arizona', 'Arkansas',\n",
       "       'Australia', 'Azerbaijan', 'B.C., MX', 'Barbuda', 'Bolivia',\n",
       "       'Bonaire, Saint Eustatius and Saba ', 'British Virgin Islands',\n",
       "       'Burma', 'CA', 'California', 'Canada', 'Chile', 'China',\n",
       "       'Christmas Island', 'Colombia', 'Colorado', 'Costa Rica',\n",
       "       'Dominican Republic', 'East Timor', 'Ecuador', 'Ecuador region',\n",
       "       'El Salvador', 'Fiji', 'Greece', 'Greenland', 'Guam', 'Guatemala',\n",
       "       'Haiti', 'Hawaii', 'Honduras', 'Idaho', 'Illinois', 'India',\n",
       "       'Indonesia', 'Iran', 'Iraq', 'Italy', 'Jamaica', 'Japan', 'Kansas',\n",
       "       'Kentucky', 'Kyrgyzstan', 'Martinique', 'Mauritius', 'Mayotte',\n",
       "       'Mexico', 'Missouri', 'Montana', 'NV', 'Nevada', 'New Caledonia',\n",
       "       'New Hampshire', 'New Mexico', 'New Zealand', 'Nicaragua',\n",
       "       'North Carolina', 'Northern Mariana Islands', 'Oklahoma', 'Oregon',\n",
       "       'Pakistan', 'Papua New Guinea', 'Peru', 'Philippines',\n",
       "       'Puerto Rico', 'Romania', 'Russia', 'Saint Helena',\n",
       "       'Solomon Islands', 'Somalia', 'South Africa', 'South Carolina',\n",
       "       'South Georgia and the South Sandwich Islands',\n",
       "       'South Sandwich Islands', 'Taiwan', 'Tajikistan', 'Tennessee',\n",
       "       'Texas', 'Tonga', 'Turkey', 'U.S. Virgin Islands', 'Utah',\n",
       "       'Uzbekistan', 'Vanuatu', 'Vermont', 'Washington', 'Wyoming',\n",
       "       'Yemen', nan], dtype=object)"
      ]
     },
     "execution_count": 5,
     "metadata": {},
     "output_type": "execute_result"
    }
   ],
   "source": [
    "data['place'] = data['title'].str.extract(r', (.*$)')\n",
    "data['place'].sort_values().unique()"
   ]
  },
  {
   "cell_type": "markdown",
   "metadata": {},
   "source": [
    "1. Find the 95th percentile of earthquake magnitude in Japan using the\n",
    "magType of 'mb'."
   ]
  },
  {
   "cell_type": "code",
   "execution_count": 6,
   "metadata": {},
   "outputs": [
    {
     "data": {
      "text/plain": [
       "5.2"
      ]
     },
     "execution_count": 6,
     "metadata": {},
     "output_type": "execute_result"
    }
   ],
   "source": [
    "data.loc[data.magType == 'mb'].mag.quantile(0.95)"
   ]
  },
  {
   "cell_type": "markdown",
   "metadata": {},
   "source": [
    "2. Find the percentage of earthquakes in Indonesia that were coupled with\n",
    "tsunamis."
   ]
  },
  {
   "cell_type": "code",
   "execution_count": 7,
   "metadata": {},
   "outputs": [
    {
     "data": {
      "text/plain": [
       "23.12925170068027"
      ]
     },
     "execution_count": 7,
     "metadata": {},
     "output_type": "execute_result"
    }
   ],
   "source": [
    "indonesia = data.loc[(data.place == 'Indonesia') & (data.type == 'earthquake'), ['type', 'tsunami', 'place']]\n",
    "indonesia_tsunami = indonesia.loc[indonesia.tsunami != 0]\n",
    "(indonesia_tsunami.tsunami.count()/indonesia.tsunami.count())*100"
   ]
  },
  {
   "cell_type": "markdown",
   "metadata": {},
   "source": [
    "3. Get summary statistics for earthquakes in Nevada."
   ]
  },
  {
   "cell_type": "code",
   "execution_count": 8,
   "metadata": {},
   "outputs": [
    {
     "data": {
      "text/html": [
       "<div>\n",
       "<style scoped>\n",
       "    .dataframe tbody tr th:only-of-type {\n",
       "        vertical-align: middle;\n",
       "    }\n",
       "\n",
       "    .dataframe tbody tr th {\n",
       "        vertical-align: top;\n",
       "    }\n",
       "\n",
       "    .dataframe thead th {\n",
       "        text-align: right;\n",
       "    }\n",
       "</style>\n",
       "<table border=\"1\" class=\"dataframe\">\n",
       "  <thead>\n",
       "    <tr style=\"text-align: right;\">\n",
       "      <th></th>\n",
       "      <th>cdi</th>\n",
       "      <th>dmin</th>\n",
       "      <th>felt</th>\n",
       "      <th>gap</th>\n",
       "      <th>mag</th>\n",
       "      <th>mmi</th>\n",
       "      <th>nst</th>\n",
       "      <th>rms</th>\n",
       "      <th>sig</th>\n",
       "      <th>time</th>\n",
       "      <th>tsunami</th>\n",
       "      <th>tz</th>\n",
       "      <th>updated</th>\n",
       "    </tr>\n",
       "  </thead>\n",
       "  <tbody>\n",
       "    <tr>\n",
       "      <th>count</th>\n",
       "      <td>14.000000</td>\n",
       "      <td>647.000000</td>\n",
       "      <td>14.000000</td>\n",
       "      <td>647.000000</td>\n",
       "      <td>647.000000</td>\n",
       "      <td>1.00</td>\n",
       "      <td>647.000000</td>\n",
       "      <td>647.000000</td>\n",
       "      <td>647.000000</td>\n",
       "      <td>6.470000e+02</td>\n",
       "      <td>647.0</td>\n",
       "      <td>647.0</td>\n",
       "      <td>6.470000e+02</td>\n",
       "    </tr>\n",
       "    <tr>\n",
       "      <th>mean</th>\n",
       "      <td>2.421429</td>\n",
       "      <td>0.163155</td>\n",
       "      <td>2.500000</td>\n",
       "      <td>154.436615</td>\n",
       "      <td>0.437311</td>\n",
       "      <td>2.84</td>\n",
       "      <td>12.704791</td>\n",
       "      <td>0.140627</td>\n",
       "      <td>9.146832</td>\n",
       "      <td>1.538318e+12</td>\n",
       "      <td>0.0</td>\n",
       "      <td>-480.0</td>\n",
       "      <td>1.538409e+12</td>\n",
       "    </tr>\n",
       "    <tr>\n",
       "      <th>std</th>\n",
       "      <td>0.514675</td>\n",
       "      <td>0.161793</td>\n",
       "      <td>4.783787</td>\n",
       "      <td>69.474945</td>\n",
       "      <td>0.653397</td>\n",
       "      <td>NaN</td>\n",
       "      <td>10.052695</td>\n",
       "      <td>0.056765</td>\n",
       "      <td>17.939055</td>\n",
       "      <td>5.954980e+08</td>\n",
       "      <td>0.0</td>\n",
       "      <td>0.0</td>\n",
       "      <td>5.991682e+08</td>\n",
       "    </tr>\n",
       "    <tr>\n",
       "      <th>min</th>\n",
       "      <td>2.000000</td>\n",
       "      <td>0.001000</td>\n",
       "      <td>1.000000</td>\n",
       "      <td>29.140000</td>\n",
       "      <td>-0.500000</td>\n",
       "      <td>2.84</td>\n",
       "      <td>3.000000</td>\n",
       "      <td>0.000500</td>\n",
       "      <td>0.000000</td>\n",
       "      <td>1.537247e+12</td>\n",
       "      <td>0.0</td>\n",
       "      <td>-480.0</td>\n",
       "      <td>1.537323e+12</td>\n",
       "    </tr>\n",
       "    <tr>\n",
       "      <th>25%</th>\n",
       "      <td>2.000000</td>\n",
       "      <td>0.053000</td>\n",
       "      <td>1.000000</td>\n",
       "      <td>97.295000</td>\n",
       "      <td>-0.100000</td>\n",
       "      <td>2.84</td>\n",
       "      <td>6.000000</td>\n",
       "      <td>0.104400</td>\n",
       "      <td>0.000000</td>\n",
       "      <td>1.537859e+12</td>\n",
       "      <td>0.0</td>\n",
       "      <td>-480.0</td>\n",
       "      <td>1.537928e+12</td>\n",
       "    </tr>\n",
       "    <tr>\n",
       "      <th>50%</th>\n",
       "      <td>2.200000</td>\n",
       "      <td>0.109000</td>\n",
       "      <td>1.000000</td>\n",
       "      <td>150.040000</td>\n",
       "      <td>0.300000</td>\n",
       "      <td>2.84</td>\n",
       "      <td>9.000000</td>\n",
       "      <td>0.142900</td>\n",
       "      <td>1.000000</td>\n",
       "      <td>1.538286e+12</td>\n",
       "      <td>0.0</td>\n",
       "      <td>-480.0</td>\n",
       "      <td>1.538428e+12</td>\n",
       "    </tr>\n",
       "    <tr>\n",
       "      <th>75%</th>\n",
       "      <td>3.000000</td>\n",
       "      <td>0.223000</td>\n",
       "      <td>1.000000</td>\n",
       "      <td>200.515000</td>\n",
       "      <td>0.800000</td>\n",
       "      <td>2.84</td>\n",
       "      <td>16.000000</td>\n",
       "      <td>0.181050</td>\n",
       "      <td>10.000000</td>\n",
       "      <td>1.538824e+12</td>\n",
       "      <td>0.0</td>\n",
       "      <td>-480.0</td>\n",
       "      <td>1.538878e+12</td>\n",
       "    </tr>\n",
       "    <tr>\n",
       "      <th>max</th>\n",
       "      <td>3.300000</td>\n",
       "      <td>1.414000</td>\n",
       "      <td>19.000000</td>\n",
       "      <td>355.910000</td>\n",
       "      <td>2.900000</td>\n",
       "      <td>2.84</td>\n",
       "      <td>61.000000</td>\n",
       "      <td>0.340000</td>\n",
       "      <td>129.000000</td>\n",
       "      <td>1.539461e+12</td>\n",
       "      <td>0.0</td>\n",
       "      <td>-480.0</td>\n",
       "      <td>1.539483e+12</td>\n",
       "    </tr>\n",
       "  </tbody>\n",
       "</table>\n",
       "</div>"
      ],
      "text/plain": [
       "             cdi        dmin       felt         gap         mag   mmi  \\\n",
       "count  14.000000  647.000000  14.000000  647.000000  647.000000  1.00   \n",
       "mean    2.421429    0.163155   2.500000  154.436615    0.437311  2.84   \n",
       "std     0.514675    0.161793   4.783787   69.474945    0.653397   NaN   \n",
       "min     2.000000    0.001000   1.000000   29.140000   -0.500000  2.84   \n",
       "25%     2.000000    0.053000   1.000000   97.295000   -0.100000  2.84   \n",
       "50%     2.200000    0.109000   1.000000  150.040000    0.300000  2.84   \n",
       "75%     3.000000    0.223000   1.000000  200.515000    0.800000  2.84   \n",
       "max     3.300000    1.414000  19.000000  355.910000    2.900000  2.84   \n",
       "\n",
       "              nst         rms         sig          time  tsunami     tz  \\\n",
       "count  647.000000  647.000000  647.000000  6.470000e+02    647.0  647.0   \n",
       "mean    12.704791    0.140627    9.146832  1.538318e+12      0.0 -480.0   \n",
       "std     10.052695    0.056765   17.939055  5.954980e+08      0.0    0.0   \n",
       "min      3.000000    0.000500    0.000000  1.537247e+12      0.0 -480.0   \n",
       "25%      6.000000    0.104400    0.000000  1.537859e+12      0.0 -480.0   \n",
       "50%      9.000000    0.142900    1.000000  1.538286e+12      0.0 -480.0   \n",
       "75%     16.000000    0.181050   10.000000  1.538824e+12      0.0 -480.0   \n",
       "max     61.000000    0.340000  129.000000  1.539461e+12      0.0 -480.0   \n",
       "\n",
       "            updated  \n",
       "count  6.470000e+02  \n",
       "mean   1.538409e+12  \n",
       "std    5.991682e+08  \n",
       "min    1.537323e+12  \n",
       "25%    1.537928e+12  \n",
       "50%    1.538428e+12  \n",
       "75%    1.538878e+12  \n",
       "max    1.539483e+12  "
      ]
     },
     "execution_count": 8,
     "metadata": {},
     "output_type": "execute_result"
    }
   ],
   "source": [
    "data.loc[(data.place.str.contains(r'NV|Nevada', na=False) & (data.type == 'earthquake'))].describe()"
   ]
  },
  {
   "cell_type": "markdown",
   "metadata": {},
   "source": [
    "4. Add a column to the dataframe indicating whether or not the earthquake\n",
    "happened in a country or US state that is on the Ring of Fire. Use:\n",
    "Bolivia, Chile, Ecuador, Peru, Costa Rica, Guatemala, Mexico (be careful not to\n",
    "select New Mexico), Japan, Philippines, Indonesia, New Zealand,\n",
    "Antarctica (look for Antarctic), Canada, Fiji, Alaska, Washington,\n",
    "California, Russia, Taiwan, Tonga, and Kermadec Islands."
   ]
  },
  {
   "cell_type": "code",
   "execution_count": null,
   "metadata": {},
   "outputs": [],
   "source": [
    "#adding Ring of Fire location boolean mask\n",
    "data['rof_loc'] = data['place'].isin(\n",
    "    ['Bolivia','Chile','Ecuador','Peru','Costa Rica','Guatemala','Mexico',\n",
    "    'Japan','Philippines','Indonesia','New Zealand','Antarctic','Canada',\n",
    "    'Fiji', 'Alaska','Washington','California','Russia','Taiwan','Tonga','Kermadec Islands'])"
   ]
  },
  {
   "cell_type": "code",
   "execution_count": 24,
   "metadata": {},
   "outputs": [
    {
     "data": {
      "text/html": [
       "<div>\n",
       "<style scoped>\n",
       "    .dataframe tbody tr th:only-of-type {\n",
       "        vertical-align: middle;\n",
       "    }\n",
       "\n",
       "    .dataframe tbody tr th {\n",
       "        vertical-align: top;\n",
       "    }\n",
       "\n",
       "    .dataframe thead th {\n",
       "        text-align: right;\n",
       "    }\n",
       "</style>\n",
       "<table border=\"1\" class=\"dataframe\">\n",
       "  <thead>\n",
       "    <tr style=\"text-align: right;\">\n",
       "      <th></th>\n",
       "      <th>type</th>\n",
       "      <th>title</th>\n",
       "      <th>place</th>\n",
       "      <th>rof_loc</th>\n",
       "      <th>rof_earthquake</th>\n",
       "    </tr>\n",
       "  </thead>\n",
       "  <tbody>\n",
       "    <tr>\n",
       "      <th>count</th>\n",
       "      <td>9332</td>\n",
       "      <td>9332</td>\n",
       "      <td>9244</td>\n",
       "      <td>9332</td>\n",
       "      <td>9332</td>\n",
       "    </tr>\n",
       "    <tr>\n",
       "      <th>unique</th>\n",
       "      <td>5</td>\n",
       "      <td>7807</td>\n",
       "      <td>92</td>\n",
       "      <td>2</td>\n",
       "      <td>2</td>\n",
       "    </tr>\n",
       "    <tr>\n",
       "      <th>top</th>\n",
       "      <td>earthquake</td>\n",
       "      <td>M 0.4 - 10km NE of Aguanga, CA</td>\n",
       "      <td>Alaska</td>\n",
       "      <td>False</td>\n",
       "      <td>False</td>\n",
       "    </tr>\n",
       "    <tr>\n",
       "      <th>freq</th>\n",
       "      <td>9081</td>\n",
       "      <td>55</td>\n",
       "      <td>3658</td>\n",
       "      <td>4945</td>\n",
       "      <td>5058</td>\n",
       "    </tr>\n",
       "  </tbody>\n",
       "</table>\n",
       "</div>"
      ],
      "text/plain": [
       "              type                           title   place rof_loc  \\\n",
       "count         9332                            9332    9244    9332   \n",
       "unique           5                            7807      92       2   \n",
       "top     earthquake  M 0.4 - 10km NE of Aguanga, CA  Alaska   False   \n",
       "freq          9081                              55    3658    4945   \n",
       "\n",
       "       rof_earthquake  \n",
       "count            9332  \n",
       "unique              2  \n",
       "top             False  \n",
       "freq             5058  "
      ]
     },
     "execution_count": 24,
     "metadata": {},
     "output_type": "execute_result"
    }
   ],
   "source": [
    "data['rof_earthquake'] = (data['type'] == 'earthquake') & (data['rof_loc'] == 1)\n",
    "data[['type','title','place','rof_loc','rof_earthquake']].describe()"
   ]
  },
  {
   "cell_type": "markdown",
   "metadata": {},
   "source": [
    "5. Calculate the number of earthquakes in the Ring of Fire locations and the\n",
    "number outside them."
   ]
  },
  {
   "cell_type": "code",
   "execution_count": 26,
   "metadata": {},
   "outputs": [
    {
     "data": {
      "text/plain": [
       "4274"
      ]
     },
     "execution_count": 26,
     "metadata": {},
     "output_type": "execute_result"
    }
   ],
   "source": [
    "#number of earthquakes in the Ring of Fire locations\n",
    "data.loc[(data['rof_loc'] == 1) & (data['type']== 'earthquake'),'type'].count()"
   ]
  },
  {
   "cell_type": "code",
   "execution_count": 29,
   "metadata": {},
   "outputs": [
    {
     "data": {
      "text/plain": [
       "4807"
      ]
     },
     "execution_count": 29,
     "metadata": {},
     "output_type": "execute_result"
    }
   ],
   "source": [
    "#number of earthquakes outside Ring of Fire locations\n",
    "data.loc[(data['rof_loc'] == 0) & (data['type']== 'earthquake'),'type'].count()"
   ]
  },
  {
   "cell_type": "markdown",
   "metadata": {},
   "source": [
    "6. Find the tsunami count along the Ring of Fire."
   ]
  },
  {
   "cell_type": "code",
   "execution_count": 31,
   "metadata": {},
   "outputs": [
    {
     "data": {
      "text/plain": [
       "43"
      ]
     },
     "execution_count": 31,
     "metadata": {},
     "output_type": "execute_result"
    }
   ],
   "source": [
    "data.loc[(data['rof_loc'] == 1) & (data['tsunami']== 1), 'tsunami'].count()"
   ]
  }
 ],
 "metadata": {
  "interpreter": {
   "hash": "06bb17c026d9312aa7e6b386265f97a162d79afb3169a4d089c4fac2d7f98392"
  },
  "kernelspec": {
   "display_name": "book_env",
   "language": "python",
   "name": "book_env"
  },
  "language_info": {
   "codemirror_mode": {
    "name": "ipython",
    "version": 3
   },
   "file_extension": ".py",
   "mimetype": "text/x-python",
   "name": "python",
   "nbconvert_exporter": "python",
   "pygments_lexer": "ipython3",
   "version": "3.10.2"
  },
  "orig_nbformat": 4
 },
 "nbformat": 4,
 "nbformat_minor": 2
}
