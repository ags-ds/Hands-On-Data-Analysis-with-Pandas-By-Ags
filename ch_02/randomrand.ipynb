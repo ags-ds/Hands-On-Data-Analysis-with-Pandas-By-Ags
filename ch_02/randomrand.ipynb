{
 "cells": [
  {
   "cell_type": "code",
   "execution_count": 1,
   "metadata": {},
   "outputs": [
    {
     "data": {
      "text/plain": [
       "array([[0.10707995, 0.33499305, 0.17024811],\n",
       "       [0.11776183, 0.77947337, 0.42500159]])"
      ]
     },
     "execution_count": 1,
     "metadata": {},
     "output_type": "execute_result"
    }
   ],
   "source": [
    "import numpy as np\n",
    "\n",
    "np.random.rand(2,3)"
   ]
  }
 ],
 "metadata": {
  "interpreter": {
   "hash": "f1433fc9d9e1d197e538859f85c98af4e46797dab76d6b0115d417043ed3edb3"
  },
  "kernelspec": {
   "display_name": "Python 3.10.2 64-bit",
   "language": "python",
   "name": "python3"
  },
  "language_info": {
   "codemirror_mode": {
    "name": "ipython",
    "version": 3
   },
   "file_extension": ".py",
   "mimetype": "text/x-python",
   "name": "python",
   "nbconvert_exporter": "python",
   "pygments_lexer": "ipython3",
   "version": "3.10.2"
  },
  "orig_nbformat": 4
 },
 "nbformat": 4,
 "nbformat_minor": 2
}
